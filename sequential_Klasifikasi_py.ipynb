{
 "cells": [
  {
   "cell_type": "code",
   "execution_count": 6,
   "metadata": {},
   "outputs": [
    {
     "name": "stderr",
     "output_type": "stream",
     "text": [
      "Matplotlib is building the font cache; this may take a moment.\n"
     ]
    },
    {
     "name": "stdout",
     "output_type": "stream",
     "text": [
      "2.3.0\n"
     ]
    }
   ],
   "source": [
    "from __future__ import absolute_import, division, print_function, unicode_literals\n",
    "import tensorflow as tf\n",
    "from tensorflow import keras\n",
    "from tensorflow.keras import layers\n",
    "import matplotlib.pyplot as plt\n",
    "# Helper libraries\n",
    "import numpy as np\n",
    "print(tf.__version__)"
   ]
  },
  {
   "cell_type": "code",
   "execution_count": 2,
   "metadata": {},
   "outputs": [
    {
     "name": "stdout",
     "output_type": "stream",
     "text": [
      "Downloading data from https://storage.googleapis.com/tensorflow/tf-keras-datasets/mnist.npz\n",
      "11493376/11490434 [==============================] - 5s 0us/step\n"
     ]
    }
   ],
   "source": [
    "mnist = tf.keras.datasets.mnist\n",
    "(x_train, y_train), (x_test, y_test) = mnist.load_data()\n",
    "x_train, x_test = x_train / 255.0, x_test / 25"
   ]
  },
  {
   "cell_type": "code",
   "execution_count": 19,
   "metadata": {},
   "outputs": [],
   "source": [
    "model = tf.keras.models.Sequential([\n",
    "  tf.keras.layers.Flatten(input_shape=(28, 28)),\n",
    "  tf.keras.layers.Dense(150, activation='relu'),\n",
    "  tf.keras.layers.Dropout(0.2),\n",
    "  tf.keras.layers.Dense(10, activation='softmax')\n",
    "])\n",
    "\n",
    "model.compile(optimizer='adam',\n",
    "              loss='sparse_categorical_crossentropy',\n",
    "              metrics=['accuracy'])"
   ]
  },
  {
   "cell_type": "code",
   "execution_count": 21,
   "metadata": {
    "scrolled": true
   },
   "outputs": [
    {
     "name": "stdout",
     "output_type": "stream",
     "text": [
      "Epoch 1/150\n",
      "1875/1875 [==============================] - 2s 1ms/step - loss: 0.0219 - accuracy: 0.9921\n",
      "Epoch 2/150\n",
      "1875/1875 [==============================] - 2s 1ms/step - loss: 0.0212 - accuracy: 0.9926\n",
      "Epoch 3/150\n",
      "1875/1875 [==============================] - 2s 1ms/step - loss: 0.0209 - accuracy: 0.9927\n",
      "Epoch 4/150\n",
      "1875/1875 [==============================] - 2s 1ms/step - loss: 0.0191 - accuracy: 0.9935\n",
      "Epoch 5/150\n",
      "1875/1875 [==============================] - 2s 1ms/step - loss: 0.0185 - accuracy: 0.9936\n",
      "Epoch 6/150\n",
      "1875/1875 [==============================] - 2s 935us/step - loss: 0.0197 - accuracy: 0.9928\n",
      "Epoch 7/150\n",
      "1875/1875 [==============================] - 2s 910us/step - loss: 0.0189 - accuracy: 0.9934\n",
      "Epoch 8/150\n",
      "1875/1875 [==============================] - 2s 937us/step - loss: 0.0184 - accuracy: 0.9940\n",
      "Epoch 9/150\n",
      "1875/1875 [==============================] - 2s 939us/step - loss: 0.0179 - accuracy: 0.9938\n",
      "Epoch 10/150\n",
      "1875/1875 [==============================] - 2s 990us/step - loss: 0.0158 - accuracy: 0.9944\n",
      "Epoch 11/150\n",
      "1875/1875 [==============================] - 2s 970us/step - loss: 0.0177 - accuracy: 0.9942\n",
      "Epoch 12/150\n",
      "1875/1875 [==============================] - 2s 942us/step - loss: 0.0168 - accuracy: 0.9944\n",
      "Epoch 13/150\n",
      "1875/1875 [==============================] - 2s 989us/step - loss: 0.0155 - accuracy: 0.9945\n",
      "Epoch 14/150\n",
      "1875/1875 [==============================] - 2s 973us/step - loss: 0.0166 - accuracy: 0.9942\n",
      "Epoch 15/150\n",
      "1875/1875 [==============================] - 2s 1ms/step - loss: 0.0149 - accuracy: 0.9949\n",
      "Epoch 16/150\n",
      "1875/1875 [==============================] - 2s 983us/step - loss: 0.0156 - accuracy: 0.9946\n",
      "Epoch 17/150\n",
      "1875/1875 [==============================] - 2s 932us/step - loss: 0.0148 - accuracy: 0.9950\n",
      "Epoch 18/150\n",
      "1875/1875 [==============================] - 2s 981us/step - loss: 0.0147 - accuracy: 0.9948\n",
      "Epoch 19/150\n",
      "1875/1875 [==============================] - 2s 990us/step - loss: 0.0166 - accuracy: 0.9946\n",
      "Epoch 20/150\n",
      "1875/1875 [==============================] - 2s 937us/step - loss: 0.0146 - accuracy: 0.9951\n",
      "Epoch 21/150\n",
      "1875/1875 [==============================] - 2s 933us/step - loss: 0.0125 - accuracy: 0.9957\n",
      "Epoch 22/150\n",
      "1875/1875 [==============================] - 2s 965us/step - loss: 0.0132 - accuracy: 0.9953\n",
      "Epoch 23/150\n",
      "1875/1875 [==============================] - 2s 915us/step - loss: 0.0151 - accuracy: 0.9951\n",
      "Epoch 24/150\n",
      "1875/1875 [==============================] - 2s 904us/step - loss: 0.0136 - accuracy: 0.9950\n",
      "Epoch 25/150\n",
      "1875/1875 [==============================] - 2s 904us/step - loss: 0.0134 - accuracy: 0.9954\n",
      "Epoch 26/150\n",
      "1875/1875 [==============================] - 2s 910us/step - loss: 0.0137 - accuracy: 0.9952\n",
      "Epoch 27/150\n",
      "1875/1875 [==============================] - 2s 911us/step - loss: 0.0139 - accuracy: 0.9952\n",
      "Epoch 28/150\n",
      "1875/1875 [==============================] - 2s 968us/step - loss: 0.0127 - accuracy: 0.9958\n",
      "Epoch 29/150\n",
      "1875/1875 [==============================] - 2s 974us/step - loss: 0.0139 - accuracy: 0.9952\n",
      "Epoch 30/150\n",
      "1875/1875 [==============================] - 2s 982us/step - loss: 0.0143 - accuracy: 0.9952\n",
      "Epoch 31/150\n",
      "1875/1875 [==============================] - 2s 1ms/step - loss: 0.0120 - accuracy: 0.9959\n",
      "Epoch 32/150\n",
      "1875/1875 [==============================] - 2s 912us/step - loss: 0.0140 - accuracy: 0.9953\n",
      "Epoch 33/150\n",
      "1875/1875 [==============================] - 2s 914us/step - loss: 0.0113 - accuracy: 0.9963\n",
      "Epoch 34/150\n",
      "1875/1875 [==============================] - 2s 970us/step - loss: 0.0127 - accuracy: 0.9959\n",
      "Epoch 35/150\n",
      "1875/1875 [==============================] - 2s 913us/step - loss: 0.0118 - accuracy: 0.9961\n",
      "Epoch 36/150\n",
      "1875/1875 [==============================] - 2s 941us/step - loss: 0.0114 - accuracy: 0.9964\n",
      "Epoch 37/150\n",
      "1875/1875 [==============================] - 2s 952us/step - loss: 0.0113 - accuracy: 0.9959\n",
      "Epoch 38/150\n",
      "1875/1875 [==============================] - 2s 899us/step - loss: 0.0110 - accuracy: 0.9966\n",
      "Epoch 39/150\n",
      "1875/1875 [==============================] - 2s 919us/step - loss: 0.0127 - accuracy: 0.9957\n",
      "Epoch 40/150\n",
      "1875/1875 [==============================] - 2s 970us/step - loss: 0.0125 - accuracy: 0.9960\n",
      "Epoch 41/150\n",
      "1875/1875 [==============================] - 2s 950us/step - loss: 0.0122 - accuracy: 0.9961\n",
      "Epoch 42/150\n",
      "1875/1875 [==============================] - 2s 891us/step - loss: 0.0128 - accuracy: 0.9958\n",
      "Epoch 43/150\n",
      "1875/1875 [==============================] - 2s 890us/step - loss: 0.0110 - accuracy: 0.9964\n",
      "Epoch 44/150\n",
      "1875/1875 [==============================] - 2s 901us/step - loss: 0.0111 - accuracy: 0.9965\n",
      "Epoch 45/150\n",
      "1875/1875 [==============================] - 2s 926us/step - loss: 0.0119 - accuracy: 0.9963\n",
      "Epoch 46/150\n",
      "1875/1875 [==============================] - 2s 969us/step - loss: 0.0125 - accuracy: 0.9959\n",
      "Epoch 47/150\n",
      "1875/1875 [==============================] - 2s 935us/step - loss: 0.0108 - accuracy: 0.9966\n",
      "Epoch 48/150\n",
      "1875/1875 [==============================] - 2s 962us/step - loss: 0.0126 - accuracy: 0.9960\n",
      "Epoch 49/150\n",
      "1875/1875 [==============================] - 2s 1ms/step - loss: 0.0102 - accuracy: 0.9967\n",
      "Epoch 50/150\n",
      "1875/1875 [==============================] - 2s 1ms/step - loss: 0.0125 - accuracy: 0.9961\n",
      "Epoch 51/150\n",
      "1875/1875 [==============================] - 2s 1ms/step - loss: 0.0106 - accuracy: 0.9962\n",
      "Epoch 52/150\n",
      "1875/1875 [==============================] - 2s 1ms/step - loss: 0.0127 - accuracy: 0.9960\n",
      "Epoch 53/150\n",
      "1875/1875 [==============================] - 2s 1ms/step - loss: 0.0116 - accuracy: 0.9962\n",
      "Epoch 54/150\n",
      "1875/1875 [==============================] - 2s 1ms/step - loss: 0.0112 - accuracy: 0.9965\n",
      "Epoch 55/150\n",
      "1875/1875 [==============================] - 2s 1ms/step - loss: 0.0101 - accuracy: 0.9968\n",
      "Epoch 56/150\n",
      "1875/1875 [==============================] - 2s 1000us/step - loss: 0.0128 - accuracy: 0.9961\n",
      "Epoch 57/150\n",
      "1875/1875 [==============================] - 2s 1ms/step - loss: 0.0107 - accuracy: 0.9966\n",
      "Epoch 58/150\n",
      "1875/1875 [==============================] - 2s 1ms/step - loss: 0.0101 - accuracy: 0.9969\n",
      "Epoch 59/150\n",
      "1875/1875 [==============================] - 2s 1ms/step - loss: 0.0112 - accuracy: 0.9964\n",
      "Epoch 60/150\n",
      "1875/1875 [==============================] - 2s 1ms/step - loss: 0.0104 - accuracy: 0.9967\n",
      "Epoch 61/150\n",
      "1875/1875 [==============================] - 2s 1ms/step - loss: 0.0103 - accuracy: 0.9968\n",
      "Epoch 62/150\n",
      "1875/1875 [==============================] - 2s 1ms/step - loss: 0.0114 - accuracy: 0.9965\n",
      "Epoch 63/150\n",
      "1875/1875 [==============================] - 2s 1ms/step - loss: 0.0098 - accuracy: 0.9970\n",
      "Epoch 64/150\n",
      "1875/1875 [==============================] - 2s 1ms/step - loss: 0.0101 - accuracy: 0.9967\n",
      "Epoch 65/150\n",
      "1875/1875 [==============================] - 2s 1ms/step - loss: 0.0092 - accuracy: 0.9970\n",
      "Epoch 66/150\n",
      "1875/1875 [==============================] - 2s 1ms/step - loss: 0.0109 - accuracy: 0.9966\n",
      "Epoch 67/150\n",
      "1875/1875 [==============================] - 2s 1ms/step - loss: 0.0108 - accuracy: 0.9966\n",
      "Epoch 68/150\n",
      "1875/1875 [==============================] - 2s 1ms/step - loss: 0.0106 - accuracy: 0.9967\n",
      "Epoch 69/150\n",
      "1875/1875 [==============================] - 2s 1ms/step - loss: 0.0117 - accuracy: 0.9964\n",
      "Epoch 70/150\n",
      "1875/1875 [==============================] - 2s 1ms/step - loss: 0.0102 - accuracy: 0.9969\n",
      "Epoch 71/150\n",
      "1875/1875 [==============================] - 2s 1ms/step - loss: 0.0100 - accuracy: 0.9968\n",
      "Epoch 72/150\n",
      "1875/1875 [==============================] - 2s 1ms/step - loss: 0.0110 - accuracy: 0.9969\n",
      "Epoch 73/150\n",
      "1875/1875 [==============================] - 2s 1ms/step - loss: 0.0098 - accuracy: 0.9969\n",
      "Epoch 74/150\n",
      "1875/1875 [==============================] - 2s 1ms/step - loss: 0.0122 - accuracy: 0.9964\n",
      "Epoch 75/150\n",
      "1875/1875 [==============================] - 2s 1ms/step - loss: 0.0109 - accuracy: 0.9967\n",
      "Epoch 76/150\n",
      "1875/1875 [==============================] - 2s 1ms/step - loss: 0.0096 - accuracy: 0.9971\n",
      "Epoch 77/150\n",
      "1875/1875 [==============================] - 2s 1ms/step - loss: 0.0098 - accuracy: 0.9971\n",
      "Epoch 78/150\n",
      "1875/1875 [==============================] - 2s 1ms/step - loss: 0.0092 - accuracy: 0.9969\n",
      "Epoch 79/150\n"
     ]
    },
    {
     "name": "stdout",
     "output_type": "stream",
     "text": [
      "1875/1875 [==============================] - 2s 998us/step - loss: 0.0098 - accuracy: 0.9969\n",
      "Epoch 80/150\n",
      "1875/1875 [==============================] - 2s 990us/step - loss: 0.0101 - accuracy: 0.9970\n",
      "Epoch 81/150\n",
      "1875/1875 [==============================] - 2s 1ms/step - loss: 0.0089 - accuracy: 0.9969\n",
      "Epoch 82/150\n",
      "1875/1875 [==============================] - 2s 1ms/step - loss: 0.0087 - accuracy: 0.9972\n",
      "Epoch 83/150\n",
      "1875/1875 [==============================] - 2s 1ms/step - loss: 0.0084 - accuracy: 0.9973\n",
      "Epoch 84/150\n",
      "1875/1875 [==============================] - 2s 1ms/step - loss: 0.0089 - accuracy: 0.9970\n",
      "Epoch 85/150\n",
      "1875/1875 [==============================] - 2s 1ms/step - loss: 0.0094 - accuracy: 0.9970\n",
      "Epoch 86/150\n",
      "1875/1875 [==============================] - 2s 1ms/step - loss: 0.0106 - accuracy: 0.9969\n",
      "Epoch 87/150\n",
      "1875/1875 [==============================] - 2s 1ms/step - loss: 0.0104 - accuracy: 0.9969\n",
      "Epoch 88/150\n",
      "1875/1875 [==============================] - 2s 1ms/step - loss: 0.0081 - accuracy: 0.9974\n",
      "Epoch 89/150\n",
      "1875/1875 [==============================] - 2s 1ms/step - loss: 0.0089 - accuracy: 0.9973\n",
      "Epoch 90/150\n",
      "1875/1875 [==============================] - 2s 1ms/step - loss: 0.0104 - accuracy: 0.9967\n",
      "Epoch 91/150\n",
      "1875/1875 [==============================] - 2s 1ms/step - loss: 0.0092 - accuracy: 0.9972\n",
      "Epoch 92/150\n",
      "1875/1875 [==============================] - 2s 1ms/step - loss: 0.0083 - accuracy: 0.9973\n",
      "Epoch 93/150\n",
      "1875/1875 [==============================] - 2s 1ms/step - loss: 0.0101 - accuracy: 0.9970\n",
      "Epoch 94/150\n",
      "1875/1875 [==============================] - 2s 1ms/step - loss: 0.0104 - accuracy: 0.9969\n",
      "Epoch 95/150\n",
      "1875/1875 [==============================] - 2s 1ms/step - loss: 0.0084 - accuracy: 0.9973\n",
      "Epoch 96/150\n",
      "1875/1875 [==============================] - 2s 1ms/step - loss: 0.0104 - accuracy: 0.9969\n",
      "Epoch 97/150\n",
      "1875/1875 [==============================] - 2s 1ms/step - loss: 0.0088 - accuracy: 0.9974\n",
      "Epoch 98/150\n",
      "1875/1875 [==============================] - 2s 1ms/step - loss: 0.0085 - accuracy: 0.9973\n",
      "Epoch 99/150\n",
      "1875/1875 [==============================] - 2s 917us/step - loss: 0.0090 - accuracy: 0.9973\n",
      "Epoch 100/150\n",
      "1875/1875 [==============================] - 2s 935us/step - loss: 0.0087 - accuracy: 0.9975\n",
      "Epoch 101/150\n",
      "1875/1875 [==============================] - 2s 939us/step - loss: 0.0088 - accuracy: 0.9973\n",
      "Epoch 102/150\n",
      "1875/1875 [==============================] - 2s 934us/step - loss: 0.0103 - accuracy: 0.9967\n",
      "Epoch 103/150\n",
      "1875/1875 [==============================] - 2s 946us/step - loss: 0.0087 - accuracy: 0.9973\n",
      "Epoch 104/150\n",
      "1875/1875 [==============================] - 2s 936us/step - loss: 0.0086 - accuracy: 0.9977\n",
      "Epoch 105/150\n",
      "1875/1875 [==============================] - 2s 943us/step - loss: 0.0107 - accuracy: 0.9972\n",
      "Epoch 106/150\n",
      "1875/1875 [==============================] - 2s 1ms/step - loss: 0.0096 - accuracy: 0.9972\n",
      "Epoch 107/150\n",
      "1875/1875 [==============================] - 2s 954us/step - loss: 0.0086 - accuracy: 0.9971\n",
      "Epoch 108/150\n",
      "1875/1875 [==============================] - 2s 931us/step - loss: 0.0080 - accuracy: 0.9974\n",
      "Epoch 109/150\n",
      "1875/1875 [==============================] - 2s 992us/step - loss: 0.0084 - accuracy: 0.9974\n",
      "Epoch 110/150\n",
      "1875/1875 [==============================] - 2s 1ms/step - loss: 0.0110 - accuracy: 0.9970\n",
      "Epoch 111/150\n",
      "1875/1875 [==============================] - 2s 907us/step - loss: 0.0071 - accuracy: 0.9978\n",
      "Epoch 112/150\n",
      "1875/1875 [==============================] - 2s 943us/step - loss: 0.0092 - accuracy: 0.9973\n",
      "Epoch 113/150\n",
      "1875/1875 [==============================] - 2s 936us/step - loss: 0.0086 - accuracy: 0.9975\n",
      "Epoch 114/150\n",
      "1875/1875 [==============================] - 2s 979us/step - loss: 0.0095 - accuracy: 0.9969\n",
      "Epoch 115/150\n",
      "1875/1875 [==============================] - 2s 972us/step - loss: 0.0093 - accuracy: 0.9972\n",
      "Epoch 116/150\n",
      "1875/1875 [==============================] - 2s 912us/step - loss: 0.0086 - accuracy: 0.9975\n",
      "Epoch 117/150\n",
      "1875/1875 [==============================] - 2s 907us/step - loss: 0.0071 - accuracy: 0.9977\n",
      "Epoch 118/150\n",
      "1875/1875 [==============================] - 2s 907us/step - loss: 0.0080 - accuracy: 0.9976\n",
      "Epoch 119/150\n",
      "1875/1875 [==============================] - 2s 919us/step - loss: 0.0087 - accuracy: 0.9972\n",
      "Epoch 120/150\n",
      "1875/1875 [==============================] - 2s 938us/step - loss: 0.0085 - accuracy: 0.9977\n",
      "Epoch 121/150\n",
      "1875/1875 [==============================] - 2s 953us/step - loss: 0.0086 - accuracy: 0.9975\n",
      "Epoch 122/150\n",
      "1875/1875 [==============================] - 2s 930us/step - loss: 0.0082 - accuracy: 0.9976\n",
      "Epoch 123/150\n",
      "1875/1875 [==============================] - 2s 945us/step - loss: 0.0093 - accuracy: 0.9973\n",
      "Epoch 124/150\n",
      "1875/1875 [==============================] - 2s 979us/step - loss: 0.0075 - accuracy: 0.9975\n",
      "Epoch 125/150\n",
      "1875/1875 [==============================] - 2s 918us/step - loss: 0.0090 - accuracy: 0.9973\n",
      "Epoch 126/150\n",
      "1875/1875 [==============================] - 2s 930us/step - loss: 0.0080 - accuracy: 0.9976\n",
      "Epoch 127/150\n",
      "1875/1875 [==============================] - 2s 947us/step - loss: 0.0072 - accuracy: 0.9977\n",
      "Epoch 128/150\n",
      "1875/1875 [==============================] - 2s 944us/step - loss: 0.0090 - accuracy: 0.9972\n",
      "Epoch 129/150\n",
      "1875/1875 [==============================] - 2s 934us/step - loss: 0.0081 - accuracy: 0.9974\n",
      "Epoch 130/150\n",
      "1875/1875 [==============================] - 2s 924us/step - loss: 0.0079 - accuracy: 0.9976\n",
      "Epoch 131/150\n",
      "1875/1875 [==============================] - 2s 910us/step - loss: 0.0087 - accuracy: 0.9975\n",
      "Epoch 132/150\n",
      "1875/1875 [==============================] - 2s 939us/step - loss: 0.0078 - accuracy: 0.9977\n",
      "Epoch 133/150\n",
      "1875/1875 [==============================] - 2s 996us/step - loss: 0.0069 - accuracy: 0.9980\n",
      "Epoch 134/150\n",
      "1875/1875 [==============================] - 2s 905us/step - loss: 0.0090 - accuracy: 0.9974\n",
      "Epoch 135/150\n",
      "1875/1875 [==============================] - 2s 904us/step - loss: 0.0085 - accuracy: 0.9979\n",
      "Epoch 136/150\n",
      "1875/1875 [==============================] - 2s 989us/step - loss: 0.0086 - accuracy: 0.9978\n",
      "Epoch 137/150\n",
      "1875/1875 [==============================] - 2s 914us/step - loss: 0.0079 - accuracy: 0.9978\n",
      "Epoch 138/150\n",
      "1875/1875 [==============================] - 2s 912us/step - loss: 0.0088 - accuracy: 0.9973\n",
      "Epoch 139/150\n",
      "1875/1875 [==============================] - 2s 934us/step - loss: 0.0081 - accuracy: 0.9978\n",
      "Epoch 140/150\n",
      "1875/1875 [==============================] - 2s 920us/step - loss: 0.0060 - accuracy: 0.9979\n",
      "Epoch 141/150\n",
      "1875/1875 [==============================] - 2s 922us/step - loss: 0.0090 - accuracy: 0.9976\n",
      "Epoch 142/150\n",
      "1875/1875 [==============================] - 2s 1ms/step - loss: 0.0082 - accuracy: 0.9976\n",
      "Epoch 143/150\n",
      "1875/1875 [==============================] - 2s 1ms/step - loss: 0.0082 - accuracy: 0.9976\n",
      "Epoch 144/150\n",
      "1875/1875 [==============================] - 2s 1ms/step - loss: 0.0111 - accuracy: 0.9972\n",
      "Epoch 145/150\n",
      "1875/1875 [==============================] - 2s 1ms/step - loss: 0.0082 - accuracy: 0.9978\n",
      "Epoch 146/150\n",
      "1875/1875 [==============================] - 2s 1ms/step - loss: 0.0082 - accuracy: 0.9978\n",
      "Epoch 147/150\n",
      "1875/1875 [==============================] - 2s 1ms/step - loss: 0.0079 - accuracy: 0.9979\n",
      "Epoch 148/150\n",
      "1875/1875 [==============================] - 2s 1ms/step - loss: 0.0101 - accuracy: 0.9976\n",
      "Epoch 149/150\n",
      "1875/1875 [==============================] - 2s 1ms/step - loss: 0.0086 - accuracy: 0.9976\n",
      "Epoch 150/150\n",
      "1875/1875 [==============================] - 2s 1ms/step - loss: 0.0076 - accuracy: 0.9977\n",
      "313/313 - 0s - loss: 2.2519 - accuracy: 0.9806\n"
     ]
    },
    {
     "data": {
      "text/plain": [
       "[2.2519328594207764, 0.9805999994277954]"
      ]
     },
     "execution_count": 21,
     "metadata": {},
     "output_type": "execute_result"
    }
   ],
   "source": [
    "model.fit(x_train, y_train, epochs=150)\n",
    "\n",
    "model.evaluate(x_test,  y_test, verbose=2)"
   ]
  },
  {
   "cell_type": "code",
   "execution_count": 18,
   "metadata": {},
   "outputs": [
    {
     "name": "stdout",
     "output_type": "stream",
     "text": [
      "x_test\n",
      "[[[0 0 0 ... 0 0 0]\n",
      "  [0 0 0 ... 0 0 0]\n",
      "  [0 0 0 ... 0 0 0]\n",
      "  ...\n",
      "  [0 0 0 ... 0 0 0]\n",
      "  [0 0 0 ... 0 0 0]\n",
      "  [0 0 0 ... 0 0 0]]\n",
      "\n",
      " [[0 0 0 ... 0 0 0]\n",
      "  [0 0 0 ... 0 0 0]\n",
      "  [0 0 0 ... 0 0 0]\n",
      "  ...\n",
      "  [0 0 0 ... 0 0 0]\n",
      "  [0 0 0 ... 0 0 0]\n",
      "  [0 0 0 ... 0 0 0]]\n",
      "\n",
      " [[0 0 0 ... 0 0 0]\n",
      "  [0 0 0 ... 0 0 0]\n",
      "  [0 0 0 ... 0 0 0]\n",
      "  ...\n",
      "  [0 0 0 ... 0 0 0]\n",
      "  [0 0 0 ... 0 0 0]\n",
      "  [0 0 0 ... 0 0 0]]\n",
      "\n",
      " ...\n",
      "\n",
      " [[0 0 0 ... 0 0 0]\n",
      "  [0 0 0 ... 0 0 0]\n",
      "  [0 0 0 ... 0 0 0]\n",
      "  ...\n",
      "  [0 0 0 ... 0 0 0]\n",
      "  [0 0 0 ... 0 0 0]\n",
      "  [0 0 0 ... 0 0 0]]\n",
      "\n",
      " [[0 0 0 ... 0 0 0]\n",
      "  [0 0 0 ... 0 0 0]\n",
      "  [0 0 0 ... 0 0 0]\n",
      "  ...\n",
      "  [0 0 0 ... 0 0 0]\n",
      "  [0 0 0 ... 0 0 0]\n",
      "  [0 0 0 ... 0 0 0]]\n",
      "\n",
      " [[0 0 0 ... 0 0 0]\n",
      "  [0 0 0 ... 0 0 0]\n",
      "  [0 0 0 ... 0 0 0]\n",
      "  ...\n",
      "  [0 0 0 ... 0 0 0]\n",
      "  [0 0 0 ... 0 0 0]\n",
      "  [0 0 0 ... 0 0 0]]]\n",
      "x_train\n",
      "[[[0 0 0 ... 0 0 0]\n",
      "  [0 0 0 ... 0 0 0]\n",
      "  [0 0 0 ... 0 0 0]\n",
      "  ...\n",
      "  [0 0 0 ... 0 0 0]\n",
      "  [0 0 0 ... 0 0 0]\n",
      "  [0 0 0 ... 0 0 0]]\n",
      "\n",
      " [[0 0 0 ... 0 0 0]\n",
      "  [0 0 0 ... 0 0 0]\n",
      "  [0 0 0 ... 0 0 0]\n",
      "  ...\n",
      "  [0 0 0 ... 0 0 0]\n",
      "  [0 0 0 ... 0 0 0]\n",
      "  [0 0 0 ... 0 0 0]]\n",
      "\n",
      " [[0 0 0 ... 0 0 0]\n",
      "  [0 0 0 ... 0 0 0]\n",
      "  [0 0 0 ... 0 0 0]\n",
      "  ...\n",
      "  [0 0 0 ... 0 0 0]\n",
      "  [0 0 0 ... 0 0 0]\n",
      "  [0 0 0 ... 0 0 0]]\n",
      "\n",
      " ...\n",
      "\n",
      " [[0 0 0 ... 0 0 0]\n",
      "  [0 0 0 ... 0 0 0]\n",
      "  [0 0 0 ... 0 0 0]\n",
      "  ...\n",
      "  [0 0 0 ... 0 0 0]\n",
      "  [0 0 0 ... 0 0 0]\n",
      "  [0 0 0 ... 0 0 0]]\n",
      "\n",
      " [[0 0 0 ... 0 0 0]\n",
      "  [0 0 0 ... 0 0 0]\n",
      "  [0 0 0 ... 0 0 0]\n",
      "  ...\n",
      "  [0 0 0 ... 0 0 0]\n",
      "  [0 0 0 ... 0 0 0]\n",
      "  [0 0 0 ... 0 0 0]]\n",
      "\n",
      " [[0 0 0 ... 0 0 0]\n",
      "  [0 0 0 ... 0 0 0]\n",
      "  [0 0 0 ... 0 0 0]\n",
      "  ...\n",
      "  [0 0 0 ... 0 0 0]\n",
      "  [0 0 0 ... 0 0 0]\n",
      "  [0 0 0 ... 0 0 0]]]\n",
      "y_train\n",
      "[5 0 4 ... 5 6 8]\n",
      "y_test\n",
      "[7 2 1 ... 4 5 6]\n"
     ]
    }
   ],
   "source": [
    "from numpy import load\n",
    "\n",
    "data = load('mnist.npz')\n",
    "lst = data.files\n",
    "for item in lst:\n",
    "    print(item)\n",
    "    print(data[item])"
   ]
  },
  {
   "cell_type": "code",
   "execution_count": 24,
   "metadata": {},
   "outputs": [],
   "source": [
    "# Define Sequential model with 3 layers\n",
    "model = keras.Sequential(\n",
    "    [\n",
    "        layers.Dense(2, activation=\"relu\", name=\"layer1\"),\n",
    "        layers.Dense(3, activation=\"relu\", name=\"layer2\"),\n",
    "        layers.Dense(4, name=\"layer3\"),\n",
    "    ]\n",
    ")\n",
    "# Call model on a test input\n",
    "x = tf.ones((3, 3))\n",
    "y = model(x)"
   ]
  },
  {
   "cell_type": "code",
   "execution_count": 25,
   "metadata": {},
   "outputs": [],
   "source": [
    "model = keras.Sequential(\n",
    "    [\n",
    "        layers.Dense(2, activation=\"relu\"),\n",
    "        layers.Dense(3, activation=\"relu\"),\n",
    "        layers.Dense(4),\n",
    "    ]\n",
    ")"
   ]
  },
  {
   "cell_type": "code",
   "execution_count": 26,
   "metadata": {},
   "outputs": [
    {
     "data": {
      "text/plain": [
       "[<tensorflow.python.keras.layers.core.Dense at 0x18c080cb1f0>,\n",
       " <tensorflow.python.keras.layers.core.Dense at 0x18c0a25a1c0>,\n",
       " <tensorflow.python.keras.layers.core.Dense at 0x18c0a25a730>]"
      ]
     },
     "execution_count": 26,
     "metadata": {},
     "output_type": "execute_result"
    }
   ],
   "source": [
    "model.layers"
   ]
  },
  {
   "cell_type": "code",
   "execution_count": 27,
   "metadata": {},
   "outputs": [],
   "source": [
    "model = keras.Sequential()\n",
    "model.add(layers.Dense(2, activation=\"relu\"))\n",
    "model.add(layers.Dense(3, activation=\"relu\"))\n",
    "model.add(layers.Dense(4))"
   ]
  },
  {
   "cell_type": "code",
   "execution_count": 29,
   "metadata": {},
   "outputs": [
    {
     "name": "stdout",
     "output_type": "stream",
     "text": [
      "2\n"
     ]
    }
   ],
   "source": [
    "model.pop()\n",
    "print (len(model.layers))"
   ]
  },
  {
   "cell_type": "code",
   "execution_count": 30,
   "metadata": {},
   "outputs": [],
   "source": [
    "model = keras.Sequential(name=\"my_sequential\")\n",
    "model.add(layers.Dense(2, activation=\"relu\", name=\"layer1\"))\n",
    "model.add(layers.Dense(3, activation=\"relu\", name=\"layer2\"))\n",
    "model.add(layers.Dense(4, name=\"layer3\"))"
   ]
  },
  {
   "cell_type": "code",
   "execution_count": 33,
   "metadata": {},
   "outputs": [
    {
     "data": {
      "text/plain": [
       "[]"
      ]
     },
     "execution_count": 33,
     "metadata": {},
     "output_type": "execute_result"
    }
   ],
   "source": [
    "layer = layers.Dense(3)\n",
    "layer.weights  # Empty"
   ]
  },
  {
   "cell_type": "code",
   "execution_count": 36,
   "metadata": {},
   "outputs": [
    {
     "data": {
      "text/plain": [
       "[<tf.Variable 'dense_24/kernel:0' shape=(4, 3) dtype=float32, numpy=\n",
       " array([[ 0.73602927,  0.21992064,  0.51023674],\n",
       "        [-0.57718   ,  0.7574289 ,  0.21927297],\n",
       "        [-0.52213   , -0.48893887,  0.9187412 ],\n",
       "        [ 0.50581455,  0.6518059 ,  0.2900902 ]], dtype=float32)>,\n",
       " <tf.Variable 'dense_24/bias:0' shape=(3,) dtype=float32, numpy=array([0., 0., 0.], dtype=float32)>]"
      ]
     },
     "execution_count": 36,
     "metadata": {},
     "output_type": "execute_result"
    }
   ],
   "source": [
    "# Call layer on a test input\n",
    "x = tf.ones((1, 4))\n",
    "y = layer(x)\n",
    "layer.weights  # Now it has weights, of shape (4, 3) and (3,)"
   ]
  },
  {
   "cell_type": "code",
   "execution_count": 37,
   "metadata": {},
   "outputs": [
    {
     "name": "stdout",
     "output_type": "stream",
     "text": [
      "Number of weights after calling the model: 6\n"
     ]
    }
   ],
   "source": [
    "model = keras.Sequential(\n",
    "    [\n",
    "        layers.Dense(2, activation=\"relu\"),\n",
    "        layers.Dense(3, activation=\"relu\"),\n",
    "        layers.Dense(4),\n",
    "    ]\n",
    ")  # No weights at this stage!\n",
    "\n",
    "# At this point, you can't do this:\n",
    "# model.weights\n",
    "\n",
    "# You also can't do this:\n",
    "# model.summary()\n",
    "\n",
    "# Call the model on a test input\n",
    "x = tf.ones((1, 4))\n",
    "y = model(x)\n",
    "print(\"Number of weights after calling the model:\", len(model.weights))  # 6"
   ]
  },
  {
   "cell_type": "code",
   "execution_count": 38,
   "metadata": {},
   "outputs": [
    {
     "name": "stdout",
     "output_type": "stream",
     "text": [
      "Model: \"sequential_11\"\n",
      "_________________________________________________________________\n",
      "Layer (type)                 Output Shape              Param #   \n",
      "=================================================================\n",
      "dense_25 (Dense)             (1, 2)                    10        \n",
      "_________________________________________________________________\n",
      "dense_26 (Dense)             (1, 3)                    9         \n",
      "_________________________________________________________________\n",
      "dense_27 (Dense)             (1, 4)                    16        \n",
      "=================================================================\n",
      "Total params: 35\n",
      "Trainable params: 35\n",
      "Non-trainable params: 0\n",
      "_________________________________________________________________\n"
     ]
    }
   ],
   "source": [
    "model.summary()"
   ]
  },
  {
   "cell_type": "code",
   "execution_count": 39,
   "metadata": {},
   "outputs": [
    {
     "name": "stdout",
     "output_type": "stream",
     "text": [
      "Model: \"sequential_12\"\n",
      "_________________________________________________________________\n",
      "Layer (type)                 Output Shape              Param #   \n",
      "=================================================================\n",
      "dense_28 (Dense)             (None, 2)                 10        \n",
      "=================================================================\n",
      "Total params: 10\n",
      "Trainable params: 10\n",
      "Non-trainable params: 0\n",
      "_________________________________________________________________\n"
     ]
    }
   ],
   "source": [
    "model = keras.Sequential()\n",
    "model.add(keras.Input(shape=(4,)))\n",
    "model.add(layers.Dense(2, activation=\"relu\"))\n",
    "\n",
    "model.summary()"
   ]
  },
  {
   "cell_type": "code",
   "execution_count": 42,
   "metadata": {},
   "outputs": [
    {
     "data": {
      "text/plain": [
       "[<tensorflow.python.keras.layers.core.Dense at 0x18c08036e20>]"
      ]
     },
     "execution_count": 42,
     "metadata": {},
     "output_type": "execute_result"
    }
   ],
   "source": [
    "model.layers"
   ]
  },
  {
   "cell_type": "code",
   "execution_count": 43,
   "metadata": {},
   "outputs": [
    {
     "name": "stdout",
     "output_type": "stream",
     "text": [
      "Model: \"sequential_13\"\n",
      "_________________________________________________________________\n",
      "Layer (type)                 Output Shape              Param #   \n",
      "=================================================================\n",
      "dense_29 (Dense)             (None, 2)                 10        \n",
      "=================================================================\n",
      "Total params: 10\n",
      "Trainable params: 10\n",
      "Non-trainable params: 0\n",
      "_________________________________________________________________\n"
     ]
    }
   ],
   "source": [
    "model = keras.Sequential()\n",
    "model.add(layers.Dense(2, activation=\"relu\", input_shape=(4,)))\n",
    "\n",
    "model.summary() #input shape ke lapisan"
   ]
  },
  {
   "cell_type": "code",
   "execution_count": 44,
   "metadata": {},
   "outputs": [
    {
     "name": "stdout",
     "output_type": "stream",
     "text": [
      "Model: \"sequential_14\"\n",
      "_________________________________________________________________\n",
      "Layer (type)                 Output Shape              Param #   \n",
      "=================================================================\n",
      "conv2d (Conv2D)              (None, 123, 123, 32)      2432      \n",
      "_________________________________________________________________\n",
      "conv2d_1 (Conv2D)            (None, 121, 121, 32)      9248      \n",
      "_________________________________________________________________\n",
      "max_pooling2d (MaxPooling2D) (None, 40, 40, 32)        0         \n",
      "=================================================================\n",
      "Total params: 11,680\n",
      "Trainable params: 11,680\n",
      "Non-trainable params: 0\n",
      "_________________________________________________________________\n",
      "Model: \"sequential_14\"\n",
      "_________________________________________________________________\n",
      "Layer (type)                 Output Shape              Param #   \n",
      "=================================================================\n",
      "conv2d (Conv2D)              (None, 123, 123, 32)      2432      \n",
      "_________________________________________________________________\n",
      "conv2d_1 (Conv2D)            (None, 121, 121, 32)      9248      \n",
      "_________________________________________________________________\n",
      "max_pooling2d (MaxPooling2D) (None, 40, 40, 32)        0         \n",
      "_________________________________________________________________\n",
      "conv2d_2 (Conv2D)            (None, 38, 38, 32)        9248      \n",
      "_________________________________________________________________\n",
      "conv2d_3 (Conv2D)            (None, 36, 36, 32)        9248      \n",
      "_________________________________________________________________\n",
      "max_pooling2d_1 (MaxPooling2 (None, 12, 12, 32)        0         \n",
      "_________________________________________________________________\n",
      "conv2d_4 (Conv2D)            (None, 10, 10, 32)        9248      \n",
      "_________________________________________________________________\n",
      "conv2d_5 (Conv2D)            (None, 8, 8, 32)          9248      \n",
      "_________________________________________________________________\n",
      "max_pooling2d_2 (MaxPooling2 (None, 4, 4, 32)          0         \n",
      "=================================================================\n",
      "Total params: 48,672\n",
      "Trainable params: 48,672\n",
      "Non-trainable params: 0\n",
      "_________________________________________________________________\n"
     ]
    }
   ],
   "source": [
    "model = keras.Sequential()\n",
    "model.add(keras.Input(shape=(250, 250, 3)))  # 250x250 RGB images\n",
    "model.add(layers.Conv2D(32, 5, strides=2, activation=\"relu\"))\n",
    "model.add(layers.Conv2D(32, 3, activation=\"relu\"))\n",
    "model.add(layers.MaxPooling2D(3))\n",
    "\n",
    "# Can you guess what the current output shape is at this point? Probably not.\n",
    "# Let's just print it:\n",
    "model.summary()\n",
    "\n",
    "# The answer was: (40, 40, 32), so we can keep downsampling...\n",
    "\n",
    "model.add(layers.Conv2D(32, 3, activation=\"relu\"))\n",
    "model.add(layers.Conv2D(32, 3, activation=\"relu\"))\n",
    "model.add(layers.MaxPooling2D(3))\n",
    "model.add(layers.Conv2D(32, 3, activation=\"relu\"))\n",
    "model.add(layers.Conv2D(32, 3, activation=\"relu\"))\n",
    "model.add(layers.MaxPooling2D(2))\n",
    "\n",
    "# And now?\n",
    "model.summary()\n",
    "\n",
    "# Now that we have 4x4 feature maps, time to apply global max pooling.\n",
    "model.add(layers.GlobalMaxPooling2D())\n",
    "\n",
    "# Finally, we add a classification layer.\n",
    "model.add(layers.Dense(10))"
   ]
  },
  {
   "cell_type": "code",
   "execution_count": 49,
   "metadata": {},
   "outputs": [],
   "source": [
    "initial_model = keras.Sequential(\n",
    "    [\n",
    "        keras.Input(shape=(250, 250, 3)),\n",
    "        layers.Conv2D(32, 5, strides=2, activation=\"relu\"),\n",
    "        layers.Conv2D(32, 3, activation=\"relu\"),\n",
    "        layers.Conv2D(32, 3, activation=\"relu\"),\n",
    "    ]\n",
    ")\n",
    "feature_extractor = keras.Model(\n",
    "    inputs=initial_model.inputs,\n",
    "    outputs=[layer.output for layer in initial_model.layers],\n",
    ")\n",
    "\n",
    "# Call feature extractor on test input.\n",
    "x = tf.ones((1, 250, 250, 3))\n",
    "features = feature_extractor(x)"
   ]
  },
  {
   "cell_type": "code",
   "execution_count": 7,
   "metadata": {},
   "outputs": [],
   "source": [
    "try:\n",
    "  # %tensorflow_version only exists in Colab.\n",
    "  %tensorflow_version 2.x\n",
    "except Exception:\n",
    "  pass"
   ]
  },
  {
   "cell_type": "code",
   "execution_count": 8,
   "metadata": {},
   "outputs": [
    {
     "name": "stdout",
     "output_type": "stream",
     "text": [
      "Downloading data from https://storage.googleapis.com/tensorflow/tf-keras-datasets/train-labels-idx1-ubyte.gz\n",
      "32768/29515 [=================================] - 0s 3us/step\n",
      "Downloading data from https://storage.googleapis.com/tensorflow/tf-keras-datasets/train-images-idx3-ubyte.gz\n",
      "26427392/26421880 [==============================] - 26s 1us/step\n",
      "Downloading data from https://storage.googleapis.com/tensorflow/tf-keras-datasets/t10k-labels-idx1-ubyte.gz\n",
      "8192/5148 [===============================================] - 0s 0us/step\n",
      "Downloading data from https://storage.googleapis.com/tensorflow/tf-keras-datasets/t10k-images-idx3-ubyte.gz\n",
      "4423680/4422102 [==============================] - 7s 1us/step\n"
     ]
    }
   ],
   "source": [
    "#dataset mnist\n",
    "fashion_mnist = keras.datasets.fashion_mnist\n",
    "\n",
    "(train_images, train_labels), (test_images, test_labels) = fashion_mnist.load_data()"
   ]
  },
  {
   "cell_type": "code",
   "execution_count": 91,
   "metadata": {},
   "outputs": [],
   "source": [
    "#sedikit nama dari class datasets\n",
    "class_names = ['T-shirt/top', 'Trouser', 'Pullover', 'Dress', 'Coat',\n",
    "               'Sandal', 'Shirt', 'Sneaker', 'Bag', 'sepatu boot']"
   ]
  },
  {
   "cell_type": "code",
   "execution_count": 83,
   "metadata": {},
   "outputs": [
    {
     "data": {
      "text/plain": [
       "(60000, 28, 28)"
      ]
     },
     "execution_count": 83,
     "metadata": {},
     "output_type": "execute_result"
    }
   ],
   "source": [
    "train_images.shape"
   ]
  },
  {
   "cell_type": "markdown",
   "metadata": {},
   "source": [
    "terdapat 60000 image dan label didalamnya"
   ]
  },
  {
   "cell_type": "code",
   "execution_count": 84,
   "metadata": {},
   "outputs": [
    {
     "data": {
      "text/plain": [
       "60000"
      ]
     },
     "execution_count": 84,
     "metadata": {},
     "output_type": "execute_result"
    }
   ],
   "source": [
    "len(train_labels)"
   ]
  },
  {
   "cell_type": "code",
   "execution_count": 85,
   "metadata": {},
   "outputs": [
    {
     "data": {
      "text/plain": [
       "(10000, 28, 28)"
      ]
     },
     "execution_count": 85,
     "metadata": {},
     "output_type": "execute_result"
    }
   ],
   "source": [
    "test_images.shape"
   ]
  },
  {
   "cell_type": "markdown",
   "metadata": {},
   "source": [
    "mengandung 10000 label gambar"
   ]
  },
  {
   "cell_type": "code",
   "execution_count": 86,
   "metadata": {},
   "outputs": [
    {
     "data": {
      "text/plain": [
       "10000"
      ]
     },
     "execution_count": 86,
     "metadata": {},
     "output_type": "execute_result"
    }
   ],
   "source": [
    "len(test_labels)"
   ]
  },
  {
   "cell_type": "code",
   "execution_count": 93,
   "metadata": {},
   "outputs": [
    {
     "data": {
      "image/png": "[encoded data removed]",
      "text/plain": [
       "<Figure size 432x288 with 2 Axes>"
      ]
     },
     "metadata": {
      "needs_background": "light"
     },
     "output_type": "display_data"
    }
   ],
   "source": [
    "plt.figure()\n",
    "plt.imshow(train_images[0])\n",
    "plt.colorbar()\n",
    "plt.grid(False)\n",
    "plt.show()"
   ]
  },
  {
   "cell_type": "code",
   "execution_count": 89,
   "metadata": {},
   "outputs": [],
   "source": [
    "train_images = train_images / 255.0\n",
    "\n",
    "test_images = test_images / 255.0"
   ]
  },
  {
   "cell_type": "code",
   "execution_count": 103,
   "metadata": {},
   "outputs": [
    {
     "data": {
      "image/png": "[encoded data removed]",
      "text/plain": [
       "<Figure size 720x720 with 12 Axes>"
      ]
     },
     "metadata": {},
     "output_type": "display_data"
    }
   ],
   "source": [
    "plt.figure(figsize=(10,10)) #taampilan size\n",
    "for i in range(12): # range grid = 6\n",
    "    plt.subplot(6,6,i+1) # 3x3\n",
    "    plt.xticks([])\n",
    "    plt.yticks([])\n",
    "    plt.grid(False)\n",
    "    plt.imshow(train_images[i], cmap=plt.cm.binary)\n",
    "    plt.xlabel(class_names[train_labels[i]])\n",
    "plt.show()"
   ]
  },
  {
   "cell_type": "code",
   "execution_count": 104,
   "metadata": {},
   "outputs": [],
   "source": [
    "model = keras.Sequential([\n",
    "    keras.layers.Flatten(input_shape=(28, 28)),\n",
    "    keras.layers.Dense(128, activation='relu'),\n",
    "    keras.layers.Dense(10, activation='softmax')\n",
    "])"
   ]
  },
  {
   "cell_type": "code",
   "execution_count": 105,
   "metadata": {},
   "outputs": [],
   "source": [
    "model.compile(optimizer='adam',\n",
    "              loss='sparse_categorical_crossentropy',\n",
    "              metrics=['accuracy'])"
   ]
  },
  {
   "cell_type": "code",
   "execution_count": 106,
   "metadata": {},
   "outputs": [
    {
     "name": "stdout",
     "output_type": "stream",
     "text": [
      "Epoch 1/12\n",
      "1875/1875 [==============================] - 2s 1ms/step - loss: 1.0901 - accuracy: 0.6697\n",
      "Epoch 2/12\n",
      "1875/1875 [==============================] - 2s 929us/step - loss: 0.6402 - accuracy: 0.7696\n",
      "Epoch 3/12\n",
      "1875/1875 [==============================] - 2s 851us/step - loss: 0.5644 - accuracy: 0.7980\n",
      "Epoch 4/12\n",
      "1875/1875 [==============================] - 2s 875us/step - loss: 0.5232 - accuracy: 0.8138\n",
      "Epoch 5/12\n",
      "1875/1875 [==============================] - 2s 914us/step - loss: 0.4960 - accuracy: 0.8259\n",
      "Epoch 6/12\n",
      "1875/1875 [==============================] - 2s 984us/step - loss: 0.4761 - accuracy: 0.8317\n",
      "Epoch 7/12\n",
      "1875/1875 [==============================] - 2s 941us/step - loss: 0.4615 - accuracy: 0.8380\n",
      "Epoch 8/12\n",
      "1875/1875 [==============================] - 2s 902us/step - loss: 0.4495 - accuracy: 0.8412\n",
      "Epoch 9/12\n",
      "1875/1875 [==============================] - 2s 883us/step - loss: 0.4392 - accuracy: 0.8448\n",
      "Epoch 10/12\n",
      "1875/1875 [==============================] - 2s 840us/step - loss: 0.4310 - accuracy: 0.8474\n",
      "Epoch 11/12\n",
      "1875/1875 [==============================] - 2s 952us/step - loss: 0.4237 - accuracy: 0.8510\n",
      "Epoch 12/12\n",
      "1875/1875 [==============================] - 2s 861us/step - loss: 0.4173 - accuracy: 0.8532\n"
     ]
    },
    {
     "data": {
      "text/plain": [
       "<tensorflow.python.keras.callbacks.History at 0x25587de7940>"
      ]
     },
     "execution_count": 106,
     "metadata": {},
     "output_type": "execute_result"
    }
   ],
   "source": [
    "model.fit(train_images, train_labels, epochs=12)"
   ]
  },
  {
   "cell_type": "code",
   "execution_count": 36,
   "metadata": {},
   "outputs": [
    {
     "name": "stdout",
     "output_type": "stream",
     "text": [
      "313/313 - 0s - loss: 0.7373 - accuracy: 0.8851\n",
      "\n",
      "Test accuracy: 0.8851000070571899\n"
     ]
    }
   ],
   "source": [
    "test_loss, test_acc = model.evaluate(test_images,  test_labels, verbose=2) # performansi dari model terhadap data test:\n",
    "\n",
    "print('\\nTest accuracy:', test_acc)"
   ]
  },
  {
   "cell_type": "code",
   "execution_count": 38,
   "metadata": {},
   "outputs": [],
   "source": [
    "prediksi = model.predict(test_images) #membuat predikisi"
   ]
  },
  {
   "cell_type": "code",
   "execution_count": 39,
   "metadata": {},
   "outputs": [
    {
     "data": {
      "text/plain": [
       "array([1.31278e-32, 1.00000e+00, 0.00000e+00, 0.00000e+00, 0.00000e+00,\n",
       "       0.00000e+00, 0.00000e+00, 0.00000e+00, 0.00000e+00, 0.00000e+00],\n",
       "      dtype=float32)"
      ]
     },
     "execution_count": 39,
     "metadata": {},
     "output_type": "execute_result"
    }
   ],
   "source": [
    "prediksi[2]"
   ]
  },
  {
   "cell_type": "code",
   "execution_count": 40,
   "metadata": {},
   "outputs": [
    {
     "data": {
      "text/plain": [
       "array([2.3957770e-36, 2.6339428e-32, 2.9166794e-38, 0.0000000e+00,\n",
       "       1.8196886e-26, 1.6102645e-15, 9.3052535e-38, 1.0957185e-10,\n",
       "       8.0794388e-20, 1.0000000e+00], dtype=float32)"
      ]
     },
     "execution_count": 40,
     "metadata": {},
     "output_type": "execute_result"
    }
   ],
   "source": [
    "prediksi[0]"
   ]
  },
  {
   "cell_type": "code",
   "execution_count": 48,
   "metadata": {},
   "outputs": [
    {
     "data": {
      "text/plain": [
       "9"
      ]
     },
     "execution_count": 48,
     "metadata": {},
     "output_type": "execute_result"
    }
   ],
   "source": [
    "np.argmax(prediksi[0])"
   ]
  },
  {
   "cell_type": "code",
   "execution_count": 51,
   "metadata": {},
   "outputs": [
    {
     "data": {
      "text/plain": [
       "9"
      ]
     },
     "execution_count": 51,
     "metadata": {},
     "output_type": "execute_result"
    }
   ],
   "source": [
    "test_labels[0]"
   ]
  },
  {
   "cell_type": "code",
   "execution_count": 52,
   "metadata": {},
   "outputs": [],
   "source": [
    "def plot_image(i, predictions_array, true_label, img):\n",
    "  predictions_array, true_label, img = predictions_array, true_label[i], img[i]\n",
    "  plt.grid(False)\n",
    "  plt.xticks([])\n",
    "  plt.yticks([])\n",
    "\n",
    "  plt.imshow(img, cmap=plt.cm.binary)\n",
    "\n",
    "  predicted_label = np.argmax(predictions_array)\n",
    "  if predicted_label == true_label:\n",
    "    color = 'blue'\n",
    "  else:\n",
    "    color = 'red'\n",
    "\n",
    "  plt.xlabel(\"{} {:2.0f}% ({})\".format(class_names[predicted_label],\n",
    "                                100*np.max(predictions_array),\n",
    "                                class_names[true_label]),\n",
    "                                color=color)\n",
    "\n",
    "def plot_value_array(i, predictions_array, true_label):\n",
    "  predictions_array, true_label = predictions_array, true_label[i]\n",
    "  plt.grid(False)\n",
    "  plt.xticks(range(10))\n",
    "  plt.yticks([])\n",
    "  thisplot = plt.bar(range(10), predictions_array, color=\"#777777\")\n",
    "  plt.ylim([0, 1])\n",
    "  predicted_label = np.argmax(predictions_array)\n",
    "\n",
    "  thisplot[predicted_label].set_color('red')\n",
    "  thisplot[true_label].set_color('biru')"
   ]
  },
  {
   "cell_type": "code",
   "execution_count": 57,
   "metadata": {},
   "outputs": [
    {
     "data": {
      "image/png": "[encoded data removed]",
      "text/plain": [
       "<Figure size 432x216 with 2 Axes>"
      ]
     },
     "metadata": {
      "needs_background": "light"
     },
     "output_type": "display_data"
    }
   ],
   "source": [
    "i = 0\n",
    "plt.figure(figsize=(6,3))\n",
    "plt.subplot(1,2,1)\n",
    "plot_image(i, predictions[i], test_labels, test_images)\n",
    "plt.subplot(1,2,2)\n",
    "plot_value_array(i, predictions[i],  test_labels)\n",
    "plt.show()"
   ]
  },
  {
   "cell_type": "code",
   "execution_count": 58,
   "metadata": {},
   "outputs": [
    {
     "data": {
      "text/plain": [
       "<function matplotlib.pyplot.show(close=None, block=None)>"
      ]
     },
     "execution_count": 58,
     "metadata": {},
     "output_type": "execute_result"
    },
    {
     "data": {
      "image/png": "[encoded data removed]",
      "text/plain": [
       "<Figure size 864x720 with 30 Axes>"
      ]
     },
     "metadata": {
      "needs_background": "light"
     },
     "output_type": "display_data"
    }
   ],
   "source": [
    "# Plot the first X test images, their predicted labels, and the true labels.\n",
    "# Color correct predictions in blue and incorrect predictions in red.\n",
    "num_rows = 5\n",
    "num_cols = 3\n",
    "num_images = num_rows*num_cols\n",
    "plt.figure(figsize=(2*2*num_cols, 2*num_rows))\n",
    "for i in range(num_images):\n",
    "  plt.subplot(num_rows, 2*num_cols, 2*i+1)\n",
    "  plot_image(i, predictions[i], test_labels, test_images)\n",
    "  plt.subplot(num_rows, 2*num_cols, 2*i+2)\n",
    "  plot_value_array(i, predictions[i], test_labels)\n",
    "plt.tight_layout()data:image/png;base64,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\n",
    "plt.show"
   ]
  },
  {
   "cell_type": "code",
   "execution_count": 69,
   "metadata": {},
   "outputs": [
    {
     "name": "stdout",
     "output_type": "stream",
     "text": [
      "(28, 28)\n"
     ]
    }
   ],
   "source": [
    "img = test_images[4]\n",
    "print(img.shape)"
   ]
  },
  {
   "cell_type": "code",
   "execution_count": 72,
   "metadata": {},
   "outputs": [
    {
     "name": "stdout",
     "output_type": "stream",
     "text": [
      "(1, 28, 28)\n"
     ]
    }
   ],
   "source": [
    "# Add the image to a batch where it's the only member.\n",
    "img = (np.expand_dims(img,0))\n",
    "\n",
    "print(img.shape)"
   ]
  },
  {
   "cell_type": "code",
   "execution_count": 74,
   "metadata": {},
   "outputs": [
    {
     "name": "stdout",
     "output_type": "stream",
     "text": [
      "[[3.8900436e-03 3.7530588e-23 9.1695648e-07 2.6826683e-10 4.1277053e-05\n",
      "  1.6344172e-18 9.9606776e-01 1.5326183e-19 7.0161261e-17 2.7440551e-14]]\n"
     ]
    }
   ],
   "source": [
    "prediksi_single = model.predict(img)\n",
    "\n",
    "print(prediksi_single)"
   ]
  },
  {
   "cell_type": "code",
   "execution_count": 79,
   "metadata": {},
   "outputs": [
    {
     "data": {
      "image/png": "[encoded data removed]",
      "text/plain": [
       "<Figure size 432x288 with 1 Axes>"
      ]
     },
     "metadata": {
      "needs_background": "light"
     },
     "output_type": "display_data"
    }
   ],
   "source": [
    "plot_value_array(1, prediksi_single[0], test_labels)\n",
    "_ = plt.xticks(range(10), class_names, rotation=90)"
   ]
  },
  {
   "cell_type": "code",
   "execution_count": 81,
   "metadata": {},
   "outputs": [
    {
     "data": {
      "text/plain": [
       "6"
      ]
     },
     "execution_count": 81,
     "metadata": {},
     "output_type": "execute_result"
    }
   ],
   "source": [
    "np.argmax(prediksi_single[0])"
   ]
  },
  {
   "cell_type": "markdown",
   "metadata": {},
   "source": [
    "Selesai untuk klasifikasi\n"
   ]
  },
  {
   "cell_type": "code",
   "execution_count": null,
   "metadata": {},
   "outputs": [],
   "source": []
  }
 ],
 "metadata": {
  "kernelspec": {
   "display_name": "Python 3",
   "language": "python",
   "name": "python3"
  },
  "language_info": {
   "codemirror_mode": {
    "name": "ipython",
    "version": 3
   },
   "file_extension": ".py",
   "mimetype": "text/x-python",
   "name": "python",
   "nbconvert_exporter": "python",
   "pygments_lexer": "ipython3",
   "version": "3.8.5"
  }
 },
 "nbformat": 4,
 "nbformat_minor": 4
}
